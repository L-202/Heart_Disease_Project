{
  "nbformat": 4,
  "nbformat_minor": 0,
  "metadata": {
    "colab": {
      "provenance": []
    },
    "kernelspec": {
      "name": "python3",
      "display_name": "Python 3"
    },
    "language_info": {
      "name": "python"
    }
  },
  "cells": [
    {
      "cell_type": "code",
      "execution_count": 1,
      "metadata": {
        "colab": {
          "base_uri": "https://localhost:8080/"
        },
        "id": "TBz0XNZJaTwi",
        "outputId": "3e2ba0f4-a296-4e45-b8e0-4161830e0ca3"
      },
      "outputs": [
        {
          "output_type": "stream",
          "name": "stdout",
          "text": [
            "Mounted at /content/drive\n"
          ]
        }
      ],
      "source": [
        "from google.colab import drive\n",
        "drive.mount('/content/drive')\n"
      ]
    },
    {
      "cell_type": "code",
      "source": [
        "from sklearn.ensemble import RandomForestClassifier\n",
        "from sklearn.feature_selection import RFE, chi2, SelectKBest\n",
        "from sklearn.linear_model import LogisticRegression\n",
        "from sklearn.preprocessing import MinMaxScaler\n",
        "import pandas as pd\n",
        "# reload dataset\n",
        "df = pd.read_csv(\"/content/drive/MyDrive/Heart_Disease_Project/data/heart_disease_cleaned.csv\")\n",
        "\n",
        "X = df.drop(\"target\", axis=1)\n",
        "y = df[\"target\"]\n",
        "\n",
        "\n",
        "# Random Forest Feature Importance\n",
        "\n",
        "rf = RandomForestClassifier(random_state=42)\n",
        "rf.fit(X, y)\n",
        "\n",
        "importances = pd.Series(rf.feature_importances_, index=X.columns)\n",
        "top_rf = importances.sort_values(ascending=False).head(8).index.tolist()\n",
        "print(\"Top features by RF:\", top_rf)\n",
        "\n",
        "\n",
        "# RFE (Logistic Regression)\n",
        "\n",
        "log_reg = LogisticRegression(max_iter=1000)\n",
        "rfe = RFE(log_reg, n_features_to_select=8)\n",
        "rfe.fit(X, y)\n",
        "\n",
        "top_rfe = X.columns[rfe.support_].tolist()\n",
        "print(\"Top features by RFE:\", top_rfe)\n",
        "\n",
        "# Chi-Square (requires non-negative data)\n",
        "\n",
        "scaler_mm = MinMaxScaler()\n",
        "X_mm = pd.DataFrame(scaler_mm.fit_transform(X), columns=X.columns)\n",
        "\n",
        "chi2_selector = SelectKBest(chi2, k=8)\n",
        "chi2_selector.fit(X_mm, y)\n",
        "\n",
        "top_chi2 = X.columns[chi2_selector.get_support()].tolist()\n",
        "print(\"Top features by Chi-Square:\", top_chi2)\n",
        "\n",
        "# Combine selected features\n",
        "\n",
        "final_features = list(set(top_rf + top_rfe + top_chi2))\n",
        "print(\"\\n Final selected features:\", final_features)\n",
        "\n",
        "# create reduced dataset\n",
        "df_reduced = df[final_features + [\"target\"]]\n",
        "\n",
        "# save reduced dataset\n",
        "df_reduced.to_csv(\"/content/drive/MyDrive/Heart_Disease_Project/data/heart_disease_selected.csv\", index=False)\n",
        "print(\"Reduced dataset saved:\", df_reduced.shape)\n"
      ],
      "metadata": {
        "colab": {
          "base_uri": "https://localhost:8080/"
        },
        "id": "OkgTSJTwaxYe",
        "outputId": "1fb7cd50-ae72-43e8-b684-9c50d59b197f"
      },
      "execution_count": 2,
      "outputs": [
        {
          "output_type": "stream",
          "name": "stdout",
          "text": [
            "Top features by RF: ['ca', 'thalach', 'oldpeak', 'cp_4.0', 'thal_7.0', 'age', 'chol', 'trestbps']\n",
            "Top features by RFE: ['sex', 'exang', 'oldpeak', 'ca', 'cp_2.0', 'cp_4.0', 'slope_2.0', 'thal_7.0']\n",
            "Top features by Chi-Square: ['exang', 'oldpeak', 'ca', 'cp_2.0', 'cp_3.0', 'cp_4.0', 'slope_2.0', 'thal_7.0']\n",
            "\n",
            " Final selected features: ['chol', 'exang', 'thalach', 'cp_4.0', 'trestbps', 'age', 'cp_3.0', 'ca', 'oldpeak', 'slope_2.0', 'thal_7.0', 'sex', 'cp_2.0']\n",
            "Reduced dataset saved: (297, 14)\n"
          ]
        }
      ]
    }
  ]
}