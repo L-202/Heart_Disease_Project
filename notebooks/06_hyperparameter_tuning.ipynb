{
  "nbformat": 4,
  "nbformat_minor": 0,
  "metadata": {
    "colab": {
      "provenance": []
    },
    "kernelspec": {
      "name": "python3",
      "display_name": "Python 3"
    },
    "language_info": {
      "name": "python"
    }
  },
  "cells": [
    {
      "cell_type": "code",
      "execution_count": 1,
      "metadata": {
        "colab": {
          "base_uri": "https://localhost:8080/"
        },
        "id": "H-ex44e1c8oU",
        "outputId": "9e176dfd-6a2d-4927-d2fc-e8be87aae564"
      },
      "outputs": [
        {
          "output_type": "stream",
          "name": "stdout",
          "text": [
            "Mounted at /content/drive\n"
          ]
        }
      ],
      "source": [
        "from google.colab import drive\n",
        "drive.mount('/content/drive')\n"
      ]
    },
    {
      "cell_type": "code",
      "source": [
        "import pandas as pd\n",
        "from sklearn.model_selection import train_test_split, GridSearchCV, RandomizedSearchCV\n",
        "from sklearn.ensemble import RandomForestClassifier\n",
        "from sklearn.svm import SVC\n",
        "from sklearn.metrics import classification_report\n",
        "\n",
        "# Load reduced dataset\n",
        "df = pd.read_csv(\"/content/drive/MyDrive/Heart_Disease_Project/data/heart_disease_selected.csv\")\n",
        "X = df.drop(\"target\", axis=1)\n",
        "y = df[\"target\"]\n",
        "\n",
        "X_train, X_test, y_train, y_test = train_test_split(\n",
        "    X, y, test_size=0.2, random_state=42, stratify=y\n",
        ")\n",
        "\n",
        "# Random Forest GridSearch\n",
        "rf = RandomForestClassifier(random_state=42)\n",
        "\n",
        "param_grid_rf = {\n",
        "    \"n_estimators\": [50, 100, 200],\n",
        "    \"max_depth\": [None, 5, 10],\n",
        "    \"min_samples_split\": [2, 5, 10],\n",
        "    \"min_samples_leaf\": [1, 2, 4]\n",
        "}\n",
        "\n",
        "grid_rf = GridSearchCV(rf, param_grid_rf, cv=5, scoring=\"f1\", n_jobs=-1)\n",
        "grid_rf.fit(X_train, y_train)\n",
        "\n",
        "print(\"\\nBest Random Forest Params:\", grid_rf.best_params_)\n",
        "best_rf = grid_rf.best_estimator_\n",
        "\n",
        "y_pred_rf = best_rf.predict(X_test)\n",
        "print(\"\\nOptimized Random Forest Report:\\n\", classification_report(y_test, y_pred_rf))\n",
        "\n",
        "# SVM RandomizedSearch\n",
        "svm = SVC(probability=True, random_state=42)\n",
        "\n",
        "param_dist_svm = {\n",
        "    \"C\": [0.1, 1, 10, 100],\n",
        "    \"gamma\": [\"scale\", \"auto\"],\n",
        "    \"kernel\": [\"linear\", \"rbf\", \"poly\"]\n",
        "}\n",
        "\n",
        "random_svm = RandomizedSearchCV(svm, param_dist_svm, cv=5, scoring=\"f1\", n_iter=10, random_state=42, n_jobs=-1)\n",
        "random_svm.fit(X_train, y_train)\n",
        "\n",
        "print(\"\\nBest SVM Params:\", random_svm.best_params_)\n",
        "best_svm = random_svm.best_estimator_\n",
        "\n",
        "y_pred_svm = best_svm.predict(X_test)\n",
        "print(\"\\nOptimized SVM Report:\\n\", classification_report(y_test, y_pred_svm))\n"
      ],
      "metadata": {
        "colab": {
          "base_uri": "https://localhost:8080/"
        },
        "id": "3iF7rB7Dc-Xp",
        "outputId": "c93ac1a4-e720-49f5-c733-1bcf774909cb"
      },
      "execution_count": 2,
      "outputs": [
        {
          "output_type": "stream",
          "name": "stdout",
          "text": [
            "\n",
            "Best Random Forest Params: {'max_depth': 5, 'min_samples_leaf': 2, 'min_samples_split': 5, 'n_estimators': 100}\n",
            "\n",
            "Optimized Random Forest Report:\n",
            "               precision    recall  f1-score   support\n",
            "\n",
            "           0       0.81      0.91      0.85        32\n",
            "           1       0.88      0.75      0.81        28\n",
            "\n",
            "    accuracy                           0.83        60\n",
            "   macro avg       0.84      0.83      0.83        60\n",
            "weighted avg       0.84      0.83      0.83        60\n",
            "\n",
            "\n",
            "Best SVM Params: {'kernel': 'linear', 'gamma': 'scale', 'C': 100}\n",
            "\n",
            "Optimized SVM Report:\n",
            "               precision    recall  f1-score   support\n",
            "\n",
            "           0       0.83      0.94      0.88        32\n",
            "           1       0.92      0.79      0.85        28\n",
            "\n",
            "    accuracy                           0.87        60\n",
            "   macro avg       0.88      0.86      0.86        60\n",
            "weighted avg       0.87      0.87      0.87        60\n",
            "\n"
          ]
        }
      ]
    }
  ]
}